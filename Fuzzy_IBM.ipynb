{
  "nbformat": 4,
  "nbformat_minor": 0,
  "metadata": {
    "colab": {
      "provenance": []
    },
    "kernelspec": {
      "name": "python3",
      "display_name": "Python 3"
    },
    "language_info": {
      "name": "python"
    }
  },
  "cells": [
    {
      "cell_type": "code",
      "execution_count": 3,
      "metadata": {
        "colab": {
          "base_uri": "https://localhost:8080/"
        },
        "id": "160UdFYZWn9F",
        "outputId": "1b01173a-c220-4532-f750-b6156f4c8387"
      },
      "outputs": [
        {
          "output_type": "stream",
          "name": "stdout",
          "text": [
            "Looking in indexes: https://pypi.org/simple, https://us-python.pkg.dev/colab-wheels/public/simple/\n",
            "Requirement already satisfied: matplotlib in /usr/local/lib/python3.8/dist-packages (3.2.2)\n",
            "Requirement already satisfied: pyparsing!=2.0.4,!=2.1.2,!=2.1.6,>=2.0.1 in /usr/local/lib/python3.8/dist-packages (from matplotlib) (3.0.9)\n",
            "Requirement already satisfied: kiwisolver>=1.0.1 in /usr/local/lib/python3.8/dist-packages (from matplotlib) (1.4.4)\n",
            "Requirement already satisfied: cycler>=0.10 in /usr/local/lib/python3.8/dist-packages (from matplotlib) (0.11.0)\n",
            "Requirement already satisfied: numpy>=1.11 in /usr/local/lib/python3.8/dist-packages (from matplotlib) (1.21.6)\n",
            "Requirement already satisfied: python-dateutil>=2.1 in /usr/local/lib/python3.8/dist-packages (from matplotlib) (2.8.2)\n",
            "Requirement already satisfied: six>=1.5 in /usr/local/lib/python3.8/dist-packages (from python-dateutil>=2.1->matplotlib) (1.15.0)\n",
            "Looking in indexes: https://pypi.org/simple, https://us-python.pkg.dev/colab-wheels/public/simple/\n",
            "Collecting scikit-fuzzy\n",
            "  Downloading scikit-fuzzy-0.4.2.tar.gz (993 kB)\n",
            "\u001b[K     |████████████████████████████████| 993 kB 8.5 MB/s \n",
            "\u001b[?25hRequirement already satisfied: numpy>=1.6.0 in /usr/local/lib/python3.8/dist-packages (from scikit-fuzzy) (1.21.6)\n",
            "Requirement already satisfied: scipy>=0.9.0 in /usr/local/lib/python3.8/dist-packages (from scikit-fuzzy) (1.7.3)\n",
            "Requirement already satisfied: networkx>=1.9.0 in /usr/local/lib/python3.8/dist-packages (from scikit-fuzzy) (2.8.8)\n",
            "Building wheels for collected packages: scikit-fuzzy\n",
            "  Building wheel for scikit-fuzzy (setup.py) ... \u001b[?25l\u001b[?25hdone\n",
            "  Created wheel for scikit-fuzzy: filename=scikit_fuzzy-0.4.2-py3-none-any.whl size=894088 sha256=62e2f0e360c6c023211ae22efd69acf061210754c7d35aaf0859ec156f7eb665\n",
            "  Stored in directory: /root/.cache/pip/wheels/2c/04/80/7eefb1a2de7d36aefd06432fab2a1486caf0a0596a7067391a\n",
            "Successfully built scikit-fuzzy\n",
            "Installing collected packages: scikit-fuzzy\n",
            "Successfully installed scikit-fuzzy-0.4.2\n"
          ]
        }
      ],
      "source": [
        "!pip install matplotlib\n",
        "!pip install -U scikit-fuzzy"
      ]
    },
    {
      "cell_type": "markdown",
      "source": [
        "**Kelompok F**</br>\n",
        "Andi Muhammad Rizki - 11201008 </br>\n",
        "Hafizh Bagus Mustofa - 11201036 </br>\n",
        "M. Nawfal Alhadi - 11201050 </br>\n",
        "Reni Anggraeni - 11201084</br>\n",
        "Tsaqila Bela Askarina - 11201090</br>"
      ],
      "metadata": {
        "id": "n1UMAc2uw_lq"
      }
    },
    {
      "cell_type": "code",
      "source": [
        "# Library Importing\n",
        "import numpy as np\n",
        "import pandas as pd\n",
        "import skfuzzy as fuzz\n",
        "import matplotlib.pyplot as plt"
      ],
      "metadata": {
        "id": "p6w_foLSrKTa"
      },
      "execution_count": 31,
      "outputs": []
    },
    {
      "cell_type": "code",
      "source": [
        "# Read CSV Files\n",
        "files_url = 'https://raw.githubusercontent.com/NawfalHadi/fuzzy-ibm/main/BMI.csv'\n",
        "data_set = pd.read_csv(files_url)\n",
        "\n",
        "print(data_set)"
      ],
      "metadata": {
        "colab": {
          "base_uri": "https://localhost:8080/"
        },
        "id": "_2S88XLiriSZ",
        "outputId": "6c100966-9403-43e5-8316-a6c58051a0dc"
      },
      "execution_count": 32,
      "outputs": [
        {
          "output_type": "stream",
          "name": "stdout",
          "text": [
            "        Names  Height  Weight\n",
            "0        Reza     175      40\n",
            "1       Ariel     189      87\n",
            "2      Jubair     185     110\n",
            "3        Asma     195     104\n",
            "4      Ismail     149      61\n",
            "5    Alphonso     189     104\n",
            "6      Edward     147      92\n",
            "7       Mandy     154     111\n",
            "8        Gita     174      90\n",
            "9       Chris     169     103\n",
            "10      Stark     195      81\n",
            "11    Natasha     159      80\n",
            "12     Kamala     192     101\n",
            "13       Khan     155      51\n",
            "14  Alexander     191      79\n",
            "15        Eto     153     107\n",
            "16       Wati     157     110\n",
            "17       Alif     140     129\n",
            "18       Isma     144     145\n",
            "19     Nawfal     164      62\n",
            "20     Parker     170      50\n"
          ]
        }
      ]
    },
    {
      "cell_type": "code",
      "source": [
        "# Get Height And Weight For Checking.\n",
        "weight_heigt = np.array(data_set)[:,[1,2]]\n",
        "pd.DataFrame(weight_heigt)"
      ],
      "metadata": {
        "colab": {
          "base_uri": "https://localhost:8080/",
          "height": 708
        },
        "id": "wInoDwYUs8ag",
        "outputId": "11527ae8-bc03-4f04-d904-453e33d3ae0a"
      },
      "execution_count": 33,
      "outputs": [
        {
          "output_type": "execute_result",
          "data": {
            "text/plain": [
              "      0    1\n",
              "0   175   40\n",
              "1   189   87\n",
              "2   185  110\n",
              "3   195  104\n",
              "4   149   61\n",
              "5   189  104\n",
              "6   147   92\n",
              "7   154  111\n",
              "8   174   90\n",
              "9   169  103\n",
              "10  195   81\n",
              "11  159   80\n",
              "12  192  101\n",
              "13  155   51\n",
              "14  191   79\n",
              "15  153  107\n",
              "16  157  110\n",
              "17  140  129\n",
              "18  144  145\n",
              "19  164   62\n",
              "20  170   50"
            ],
            "text/html": [
              "\n",
              "  <div id=\"df-7b6efcb7-ced2-4037-90ba-88f98a65013b\">\n",
              "    <div class=\"colab-df-container\">\n",
              "      <div>\n",
              "<style scoped>\n",
              "    .dataframe tbody tr th:only-of-type {\n",
              "        vertical-align: middle;\n",
              "    }\n",
              "\n",
              "    .dataframe tbody tr th {\n",
              "        vertical-align: top;\n",
              "    }\n",
              "\n",
              "    .dataframe thead th {\n",
              "        text-align: right;\n",
              "    }\n",
              "</style>\n",
              "<table border=\"1\" class=\"dataframe\">\n",
              "  <thead>\n",
              "    <tr style=\"text-align: right;\">\n",
              "      <th></th>\n",
              "      <th>0</th>\n",
              "      <th>1</th>\n",
              "    </tr>\n",
              "  </thead>\n",
              "  <tbody>\n",
              "    <tr>\n",
              "      <th>0</th>\n",
              "      <td>175</td>\n",
              "      <td>40</td>\n",
              "    </tr>\n",
              "    <tr>\n",
              "      <th>1</th>\n",
              "      <td>189</td>\n",
              "      <td>87</td>\n",
              "    </tr>\n",
              "    <tr>\n",
              "      <th>2</th>\n",
              "      <td>185</td>\n",
              "      <td>110</td>\n",
              "    </tr>\n",
              "    <tr>\n",
              "      <th>3</th>\n",
              "      <td>195</td>\n",
              "      <td>104</td>\n",
              "    </tr>\n",
              "    <tr>\n",
              "      <th>4</th>\n",
              "      <td>149</td>\n",
              "      <td>61</td>\n",
              "    </tr>\n",
              "    <tr>\n",
              "      <th>5</th>\n",
              "      <td>189</td>\n",
              "      <td>104</td>\n",
              "    </tr>\n",
              "    <tr>\n",
              "      <th>6</th>\n",
              "      <td>147</td>\n",
              "      <td>92</td>\n",
              "    </tr>\n",
              "    <tr>\n",
              "      <th>7</th>\n",
              "      <td>154</td>\n",
              "      <td>111</td>\n",
              "    </tr>\n",
              "    <tr>\n",
              "      <th>8</th>\n",
              "      <td>174</td>\n",
              "      <td>90</td>\n",
              "    </tr>\n",
              "    <tr>\n",
              "      <th>9</th>\n",
              "      <td>169</td>\n",
              "      <td>103</td>\n",
              "    </tr>\n",
              "    <tr>\n",
              "      <th>10</th>\n",
              "      <td>195</td>\n",
              "      <td>81</td>\n",
              "    </tr>\n",
              "    <tr>\n",
              "      <th>11</th>\n",
              "      <td>159</td>\n",
              "      <td>80</td>\n",
              "    </tr>\n",
              "    <tr>\n",
              "      <th>12</th>\n",
              "      <td>192</td>\n",
              "      <td>101</td>\n",
              "    </tr>\n",
              "    <tr>\n",
              "      <th>13</th>\n",
              "      <td>155</td>\n",
              "      <td>51</td>\n",
              "    </tr>\n",
              "    <tr>\n",
              "      <th>14</th>\n",
              "      <td>191</td>\n",
              "      <td>79</td>\n",
              "    </tr>\n",
              "    <tr>\n",
              "      <th>15</th>\n",
              "      <td>153</td>\n",
              "      <td>107</td>\n",
              "    </tr>\n",
              "    <tr>\n",
              "      <th>16</th>\n",
              "      <td>157</td>\n",
              "      <td>110</td>\n",
              "    </tr>\n",
              "    <tr>\n",
              "      <th>17</th>\n",
              "      <td>140</td>\n",
              "      <td>129</td>\n",
              "    </tr>\n",
              "    <tr>\n",
              "      <th>18</th>\n",
              "      <td>144</td>\n",
              "      <td>145</td>\n",
              "    </tr>\n",
              "    <tr>\n",
              "      <th>19</th>\n",
              "      <td>164</td>\n",
              "      <td>62</td>\n",
              "    </tr>\n",
              "    <tr>\n",
              "      <th>20</th>\n",
              "      <td>170</td>\n",
              "      <td>50</td>\n",
              "    </tr>\n",
              "  </tbody>\n",
              "</table>\n",
              "</div>\n",
              "      <button class=\"colab-df-convert\" onclick=\"convertToInteractive('df-7b6efcb7-ced2-4037-90ba-88f98a65013b')\"\n",
              "              title=\"Convert this dataframe to an interactive table.\"\n",
              "              style=\"display:none;\">\n",
              "        \n",
              "  <svg xmlns=\"http://www.w3.org/2000/svg\" height=\"24px\"viewBox=\"0 0 24 24\"\n",
              "       width=\"24px\">\n",
              "    <path d=\"M0 0h24v24H0V0z\" fill=\"none\"/>\n",
              "    <path d=\"M18.56 5.44l.94 2.06.94-2.06 2.06-.94-2.06-.94-.94-2.06-.94 2.06-2.06.94zm-11 1L8.5 8.5l.94-2.06 2.06-.94-2.06-.94L8.5 2.5l-.94 2.06-2.06.94zm10 10l.94 2.06.94-2.06 2.06-.94-2.06-.94-.94-2.06-.94 2.06-2.06.94z\"/><path d=\"M17.41 7.96l-1.37-1.37c-.4-.4-.92-.59-1.43-.59-.52 0-1.04.2-1.43.59L10.3 9.45l-7.72 7.72c-.78.78-.78 2.05 0 2.83L4 21.41c.39.39.9.59 1.41.59.51 0 1.02-.2 1.41-.59l7.78-7.78 2.81-2.81c.8-.78.8-2.07 0-2.86zM5.41 20L4 18.59l7.72-7.72 1.47 1.35L5.41 20z\"/>\n",
              "  </svg>\n",
              "      </button>\n",
              "      \n",
              "  <style>\n",
              "    .colab-df-container {\n",
              "      display:flex;\n",
              "      flex-wrap:wrap;\n",
              "      gap: 12px;\n",
              "    }\n",
              "\n",
              "    .colab-df-convert {\n",
              "      background-color: #E8F0FE;\n",
              "      border: none;\n",
              "      border-radius: 50%;\n",
              "      cursor: pointer;\n",
              "      display: none;\n",
              "      fill: #1967D2;\n",
              "      height: 32px;\n",
              "      padding: 0 0 0 0;\n",
              "      width: 32px;\n",
              "    }\n",
              "\n",
              "    .colab-df-convert:hover {\n",
              "      background-color: #E2EBFA;\n",
              "      box-shadow: 0px 1px 2px rgba(60, 64, 67, 0.3), 0px 1px 3px 1px rgba(60, 64, 67, 0.15);\n",
              "      fill: #174EA6;\n",
              "    }\n",
              "\n",
              "    [theme=dark] .colab-df-convert {\n",
              "      background-color: #3B4455;\n",
              "      fill: #D2E3FC;\n",
              "    }\n",
              "\n",
              "    [theme=dark] .colab-df-convert:hover {\n",
              "      background-color: #434B5C;\n",
              "      box-shadow: 0px 1px 3px 1px rgba(0, 0, 0, 0.15);\n",
              "      filter: drop-shadow(0px 1px 2px rgba(0, 0, 0, 0.3));\n",
              "      fill: #FFFFFF;\n",
              "    }\n",
              "  </style>\n",
              "\n",
              "      <script>\n",
              "        const buttonEl =\n",
              "          document.querySelector('#df-7b6efcb7-ced2-4037-90ba-88f98a65013b button.colab-df-convert');\n",
              "        buttonEl.style.display =\n",
              "          google.colab.kernel.accessAllowed ? 'block' : 'none';\n",
              "\n",
              "        async function convertToInteractive(key) {\n",
              "          const element = document.querySelector('#df-7b6efcb7-ced2-4037-90ba-88f98a65013b');\n",
              "          const dataTable =\n",
              "            await google.colab.kernel.invokeFunction('convertToInteractive',\n",
              "                                                     [key], {});\n",
              "          if (!dataTable) return;\n",
              "\n",
              "          const docLinkHtml = 'Like what you see? Visit the ' +\n",
              "            '<a target=\"_blank\" href=https://colab.research.google.com/notebooks/data_table.ipynb>data table notebook</a>'\n",
              "            + ' to learn more about interactive tables.';\n",
              "          element.innerHTML = '';\n",
              "          dataTable['output_type'] = 'display_data';\n",
              "          await google.colab.output.renderOutput(dataTable, element);\n",
              "          const docLink = document.createElement('div');\n",
              "          docLink.innerHTML = docLinkHtml;\n",
              "          element.appendChild(docLink);\n",
              "        }\n",
              "      </script>\n",
              "    </div>\n",
              "  </div>\n",
              "  "
            ]
          },
          "metadata": {},
          "execution_count": 33
        }
      ]
    },
    {
      "cell_type": "code",
      "source": [
        "# separate the array as two array\n",
        "weight_array = []\n",
        "height_array = []\n",
        "\n",
        "index = 0\n",
        "for i in weight_heigt:\n",
        "  # Weight\n",
        "  weight_array.append(np.sum(weight_heigt[index:(index+1), 1]))\n",
        "  # Height\n",
        "  height_array.append(np.sum(weight_heigt[index:(index+1), 0]))\n",
        "  # Index Increment\n",
        "  index +=1"
      ],
      "metadata": {
        "id": "as4v0HvXrfDR"
      },
      "execution_count": 34,
      "outputs": []
    },
    {
      "cell_type": "code",
      "source": [
        "print(weight_array)\n",
        "print(height_array)"
      ],
      "metadata": {
        "colab": {
          "base_uri": "https://localhost:8080/"
        },
        "id": "FQcBylkD6LAS",
        "outputId": "c1b3d5ab-142b-43d7-c4cb-e23f4835897b"
      },
      "execution_count": 35,
      "outputs": [
        {
          "output_type": "stream",
          "name": "stdout",
          "text": [
            "[40, 87, 110, 104, 61, 104, 92, 111, 90, 103, 81, 80, 101, 51, 79, 107, 110, 129, 145, 62, 50]\n",
            "[175, 189, 185, 195, 149, 189, 147, 154, 174, 169, 195, 159, 192, 155, 191, 153, 157, 140, 144, 164, 170]\n"
          ]
        }
      ]
    },
    {
      "cell_type": "markdown",
      "source": [
        "**Fuzzy Model IBM**\n",
        "\n",
        "---\n",
        "\n"
      ],
      "metadata": {
        "id": "KIRjAZJKKsOZ"
      }
    },
    {
      "cell_type": "code",
      "source": [
        "def subjectRange(_low, _high, _step):\n",
        "    subject = np.arange(_low, _high, _step)\n",
        "    return subject\n",
        "\n",
        "# Making A Chart Model\n",
        "def fuzzyModelAlgorithm(_rule, _subject_range):\n",
        "  underweight = fuzz.trimf(_subject_range, _rule[0])\n",
        "  normal = fuzz.trimf(_subject_range, _rule[1])\n",
        "  overweight = fuzz.trimf(_subject_range, _rule[2])\n",
        "  obesity = fuzz.trimf(_subject_range, _rule[3])\n",
        "  obesity_x = fuzz.trimf(_subject_range, _rule[4])\n",
        "\n",
        "  # size of chart\n",
        "  fig, ax = plt.subplots(nrows=1, figsize=(8, 4))\n",
        "  ax.plot(_subject_range, underweight, 'blue', linewidth=1.5, label = 'Underweight')\n",
        "  ax.plot(_subject_range, normal, 'green', linewidth=1.5, label = 'Normal')\n",
        "  ax.plot(_subject_range, overweight, 'yellow', linewidth=1.5, label = 'Overweight')\n",
        "  ax.plot(_subject_range, obesity, 'orange', linewidth=1.5, label = 'Obesity I')\n",
        "  ax.plot(_subject_range, obesity_x, 'red', linewidth=1.5, label = 'Obesity II')\n",
        "\n",
        "  ax.set_title(\"IBM\")\n",
        "  ax.legend()\n",
        "\n",
        "  ax.spines['top'].set_visible(False)\n",
        "  ax.spines['right'].set_visible(False)\n",
        "\n",
        "  plt.tight_layout()\n",
        "  plt.show()\n",
        "\n",
        "  return underweight, normal, overweight, obesity, obesity_x\n"
      ],
      "metadata": {
        "id": "Lhe7IMD7K2tc"
      },
      "execution_count": 36,
      "outputs": []
    },
    {
      "cell_type": "code",
      "source": [
        "# Making a start and end point of the range\n",
        "ranges = subjectRange(0, 70, 1)\n",
        "\n",
        "# Ranges Of Each Rules\n",
        "bmiRanges = np.array([\n",
        "    # Underweight\n",
        "    [0, 17.5, 18.5],\n",
        "    # Normal\n",
        "    [17.5, 21.9, 22.9],\n",
        "    # Overweight\n",
        "    [22, 23.9, 24.9],\n",
        "    # Obesity I\n",
        "    [24, 25, 29.9],\n",
        "    # Obesity II\n",
        "    [29, 30, 70]\n",
        "])\n",
        "\n",
        "uw, no, ow, ob, obx = fuzzyModelAlgorithm(bmiRanges, ranges)"
      ],
      "metadata": {
        "colab": {
          "base_uri": "https://localhost:8080/",
          "height": 297
        },
        "id": "0vwLybvlN0eC",
        "outputId": "09c21445-1000-4f05-8cd1-e708f2798502"
      },
      "execution_count": 48,
      "outputs": [
        {
          "output_type": "display_data",
          "data": {
            "text/plain": [
              "<Figure size 576x288 with 1 Axes>"
            ],
            "image/png": "[encoded data removed]"
          },
          "metadata": {
            "needs_background": "light"
          }
        }
      ]
    },
    {
      "cell_type": "markdown",
      "source": [
        "**GET IBM From Height & Weight Value**"
      ],
      "metadata": {
        "id": "WYz_buFFZvNE"
      }
    },
    {
      "cell_type": "code",
      "source": [
        "def ibmCalculator(_h, _w):\n",
        "  height = (_h / 100) ** 2\n",
        "  calculation = _w / height\n",
        "\n",
        "  return \"%.2f\" % calculation"
      ],
      "metadata": {
        "id": "xkhMCNnedTUZ"
      },
      "execution_count": 49,
      "outputs": []
    },
    {
      "cell_type": "code",
      "source": [
        "ibm_array = []\n",
        "\n",
        "for i in range(len(height_array)):\n",
        "  height = height_array[i]\n",
        "  weight = weight_array[i]\n",
        "\n",
        "  ibm_calculated = ibmCalculator(height, weight)\n",
        "  ibm_array.append(ibm_calculated)"
      ],
      "metadata": {
        "id": "9QVAQUuge-G5"
      },
      "execution_count": 50,
      "outputs": []
    },
    {
      "cell_type": "code",
      "source": [
        "# Check IBM Array\n",
        "print(ibm_array)"
      ],
      "metadata": {
        "colab": {
          "base_uri": "https://localhost:8080/"
        },
        "id": "RroTF5PUjaf6",
        "outputId": "2511f62a-e710-41e5-c066-855b13336eb7"
      },
      "execution_count": 51,
      "outputs": [
        {
          "output_type": "stream",
          "name": "stdout",
          "text": [
            "['13.06', '24.36', '32.14', '27.35', '27.48', '29.11', '42.57', '46.80', '29.73', '36.06', '21.30', '31.64', '27.40', '21.23', '21.66', '45.71', '44.63', '65.82', '69.93', '23.05', '17.30']\n"
          ]
        }
      ]
    },
    {
      "cell_type": "markdown",
      "source": [
        "**Derajat Keangotaan Dari IBM**"
      ],
      "metadata": {
        "id": "kbG4gANjdTlZ"
      }
    },
    {
      "cell_type": "code",
      "source": [
        "def ibmFuncMember(_range, _uw, _no, _ow, _ob, _obx, _nilai):\n",
        "  uw = fuzz.interp_membership(_range, _uw, _nilai)\n",
        "  no = fuzz.interp_membership(_range, _no, _nilai)\n",
        "  ow = fuzz.interp_membership(_range, _ow, _nilai)\n",
        "  ob = fuzz.interp_membership(_range, _ob, _nilai)\n",
        "  obx = fuzz.interp_membership(_range, _obx, _nilai)\n",
        "\n",
        "  return \"%.2f\" % uw,\"%.2f\" % no,\"%.2f\" % ow, \"%.2f\" % ob,\"%.2f\" % obx"
      ],
      "metadata": {
        "id": "pm26mgsfaFC5"
      },
      "execution_count": 41,
      "outputs": []
    },
    {
      "cell_type": "code",
      "source": [
        "def ibmStatus(_uw, _no, _ow, _ob, _obx):\n",
        "  if(_uw > 0):\n",
        "    if(_uw > _no):\n",
        "      return \"Under Weight\"\n",
        "    else:\n",
        "      return \"Normal\"\n",
        "  \n",
        "  elif(_no > 0):\n",
        "    if(_no > _ow):\n",
        "      return \"Normal\"\n",
        "    else:\n",
        "      return \"Over Weight\"\n",
        "  \n",
        "  elif(_ow > 0):\n",
        "    if(_ow > _ob):\n",
        "      return \"Over Weight\"\n",
        "    else:\n",
        "      return \"Obesity I\"\n",
        "\n",
        "  elif(_ob > 0):\n",
        "    if(_ob > _obx):\n",
        "      return \"Obesity I\"\n",
        "    else:\n",
        "      return \"Obesity II\"\n",
        "\n",
        "  else:\n",
        "    return \"Obesity II\""
      ],
      "metadata": {
        "id": "I75bTyl74Jvb"
      },
      "execution_count": 42,
      "outputs": []
    },
    {
      "cell_type": "code",
      "source": [
        "ibm_level = []\n",
        "for i in ibm_array:\n",
        "  value = ibmFuncMember(ranges, uw, no, ow, ob, obx, i)\n",
        "  ibm_level.append(value)"
      ],
      "metadata": {
        "id": "EL_zGGS-aeQ1"
      },
      "execution_count": 54,
      "outputs": []
    },
    {
      "cell_type": "markdown",
      "source": [
        "**STATUS**"
      ],
      "metadata": {
        "id": "I1hsYzOk2PiX"
      }
    },
    {
      "cell_type": "code",
      "source": [
        "names = np.array(data_set)[:,[0]]\n",
        "for i in range(len(names)):\n",
        "  level = ibmStatus(float(ibm_level[i][0]),float(ibm_level[i][1]),\n",
        "                        float(ibm_level[i][2]), float(ibm_level[i][3]),\n",
        "                        float(ibm_level[i][4]))\n",
        "  print(f\"{names[i]} : {level} <-- {ibm_level[i]}\")\n"
      ],
      "metadata": {
        "id": "rZe_pzcueFQ2",
        "colab": {
          "base_uri": "https://localhost:8080/"
        },
        "outputId": "97db66fe-0d4b-49fe-f66d-09b01baaf25e"
      },
      "execution_count": 59,
      "outputs": [
        {
          "output_type": "stream",
          "name": "stdout",
          "text": [
            "['Reza'] : Under Weight <-- ('0.75', '0.00', '0.00', '0.00', '0.00')\n",
            "['Ariel'] : Over Weight <-- ('0.00', '0.00', '0.58', '0.36', '0.00')\n",
            "['Jubair'] : Obesity II <-- ('0.00', '0.00', '0.00', '0.00', '0.95')\n",
            "['Asma'] : Obesity I <-- ('0.00', '0.00', '0.00', '0.52', '0.00')\n",
            "['Ismail'] : Obesity I <-- ('0.00', '0.00', '0.00', '0.49', '0.00')\n",
            "['Alphonso'] : Obesity I <-- ('0.00', '0.00', '0.00', '0.16', '0.11')\n",
            "['Edward'] : Obesity II <-- ('0.00', '0.00', '0.00', '0.00', '0.69')\n",
            "['Mandy'] : Obesity II <-- ('0.00', '0.00', '0.00', '0.00', '0.58')\n",
            "['Gita'] : Obesity II <-- ('0.00', '0.00', '0.00', '0.05', '0.73')\n",
            "['Chris'] : Obesity II <-- ('0.00', '0.00', '0.00', '0.00', '0.85')\n",
            "['Stark'] : Normal <-- ('0.00', '0.83', '0.00', '0.00', '0.00')\n",
            "['Natasha'] : Obesity II <-- ('0.00', '0.00', '0.00', '0.00', '0.96')\n",
            "['Kamala'] : Obesity I <-- ('0.00', '0.00', '0.00', '0.51', '0.00')\n",
            "['Khan'] : Normal <-- ('0.00', '0.82', '0.00', '0.00', '0.00')\n",
            "['Alexander'] : Normal <-- ('0.00', '0.86', '0.00', '0.00', '0.00')\n",
            "['Eto'] : Obesity II <-- ('0.00', '0.00', '0.00', '0.00', '0.61')\n",
            "['Wati'] : Obesity II <-- ('0.00', '0.00', '0.00', '0.00', '0.63')\n",
            "['Alif'] : Obesity II <-- ('0.00', '0.00', '0.00', '0.00', '0.10')\n",
            "['Isma'] : Obesity II <-- ('0.00', '0.00', '0.00', '0.00', '0.00')\n",
            "['Nawfal'] : Over Weight <-- ('0.00', '0.00', '0.55', '0.00', '0.00')\n",
            "['Parker'] : Under Weight <-- ('0.83', '0.03', '0.00', '0.00', '0.00')\n"
          ]
        }
      ]
    },
    {
      "cell_type": "code",
      "source": [],
      "metadata": {
        "id": "TNAgbiUkD8jo"
      },
      "execution_count": null,
      "outputs": []
    }
  ]
}